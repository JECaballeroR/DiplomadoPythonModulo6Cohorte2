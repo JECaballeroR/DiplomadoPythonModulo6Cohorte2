{
 "cells": [
  {
   "cell_type": "code",
   "execution_count": 1,
   "metadata": {},
   "outputs": [],
   "source": [
    "import pandas as pd\n",
    "import matplotlib.pyplot as plt\n",
    "import ppscore as pps\n",
    "import seaborn as sns\n",
    "from sklearn.pipeline import make_pipeline\n",
    "from sklearn.model_selection import GridSearchCV, train_test_split\n",
    "from sklearn.preprocessing import StandardScaler\n",
    "from sklearn.ensemble import RandomForestClassifier\n",
    "from sklearn.utils import resample\n",
    "import numpy as np\n",
    "from sklearn import metrics\n",
    "from sklearn.metrics import (\n",
    "    f1_score,\n",
    "    roc_auc_score,\n",
    "    precision_recall_curve,\n",
    "    roc_curve,\n",
    "    confusion_matrix,\n",
    "    classification_report,\n",
    "    accuracy_score,\n",
    ")"
   ]
  },
  {
   "cell_type": "markdown",
   "metadata": {
    "pycharm": {
     "name": "#%% md\n"
    }
   },
   "source": [
    "# Employee turnover: Predecir la probablidad de que un empleado renuncie usando Machine Learning\n",
    "### ¿Cómo podemos retener nuestro talento?\n",
    "\n",
    "Es una pregunta que toda organización del mundo debería hacerse.\n",
    "El talento es el insumo de mayor valor para cada organización,\n",
    "dado que es el mayor generador de valor:\n",
    "No importan los recursos si no hay gente habilidosa, motivada detrás de ellos.\n",
    "\n",
    "Para poder retener el talento, es necesario entender\n",
    "la razón de la salida de los empleados: si se sabe quién está en riesgo\n",
    " de abandonar la organización, se pueden tomar medidas preventivas.\n",
    "\n",
    "En el presente Jupyter notebook, se ilustrará el proceso\n",
    "para la obtención de un modelo preliminar de\n",
    "Machine Learning para la predicción de la probabilidad de que\n",
    "un empleado abandone una organización. Para esto,\n",
    "se utilizará un dataset de Kaggle que contiene una serie\n",
    " de features asociadas a los empleados, además de\n",
    " una variable binaria que determina si el empleado abandonó o no la organización.\n",
    "\n",
    "A grandes rasgos, los pasos que se seguirán serán:\n",
    "\n",
    "* **Carga y validación de los datos**:\n",
    " Se verifica que los datos a usar sean integrales, que no haya faltantes, que sus valores sean coherentes con la realidad.\n",
    "* **Análisis Exploratorio**:\n",
    "Se exploran los datos para detectar posibles interacciones de interés. En el caso de dataset con muchos features, se usaría como base para empezar con los modelos.\n",
    "* **Preparación de los datos**:\n",
    " Se realiza preparación y limpieza de datos para los modelos (Normalizar, Estandarizar, Upsampling/Downsampling, generación de datos sintéticos, rellenado de faltantes, entre otras posibilidades). Adicionalmente, se separa un fragmento de los datos para posteriormente probar los modelos en ellos.\n",
    "* **Modelado inicial**:\n",
    "Se prueba con algunos modelos básicos.\n",
    "* **Optimización de hiper parámetros**:\n",
    "Se aproxima a la mejor combinación de hiper parámetros del modelo seleccionado para los datos que se tienen.\n",
    "* **Selección del mejor modelo**:\n",
    " Con los datos separados en el punto 3, se prueban todos los modelos y se elige aquel con un mejor desempeño.\n",
    "\n",
    "\n",
    "## Carga y exploración básica\n",
    "\n",
    "Los features del dataset son:\n",
    "\n",
    "- **satisfaction_level**: Nivel de Satisfacción, de 0 a 1 (Flotante).\n",
    "- **last_evaluation**: Años desde la última evaluación de desempeño (Flotante)\n",
    "- **number_project**: Cantidad de proyectos terminados durante la vinculación laboral (Entera)\n",
    "- **average_montly_hours**: Horas promedio mensuales trabajadas (Entera)\n",
    "- **time_spend_company**: Años de vinculación en la compañía (Entera)\n",
    "- **Work_accident**: Si el empleado tuvo o no Accidente de trabajo (Binaria)\n",
    "- **left**: Si el empleado dejo o no el trabajo (Variable Respuesta) (Binaria)\n",
    "- **promotion_last_5years**: Si el empleado tuvo o no un ascenso en los últimos 5 años (Binaria).\n",
    "- **sales**: Departamento al que el empleado estuvo vinculado (Categórica).\n",
    "- **salary**: Nivel relativo del salario (low, medium, high) (Categórica)\n",
    "\n",
    "Se cargan los datos y se validan ciertos elementos, a saber:\n",
    "\n",
    "* Que no haya datos faltantes\n",
    "* Que todos los datos sean coherentes con las variables\n",
    "* Que la variable respuesta esté balanceada\n",
    "\n",
    "Después de estas validaciones iniciales, se modifican los nombres de las variables\n",
    "para su interpretabilidad y se realiza un Análisis de Datos Exploratorio para conocer\n",
    "mejor el dataset."
   ]
  },
  {
   "cell_type": "code",
   "execution_count": 2,
   "metadata": {
    "pycharm": {
     "name": "#%%\n"
    }
   },
   "outputs": [
    {
     "data": {
      "text/html": [
       "<div><div id=e357d1d8-7031-4bbb-9533-41656f4cfd4b style=\"display:none; background-color:#9D6CFF; color:white; width:200px; height:30px; padding-left:5px; border-radius:4px; flex-direction:row; justify-content:space-around; align-items:center;\" onmouseover=\"this.style.backgroundColor='#BA9BF8'\" onmouseout=\"this.style.backgroundColor='#9D6CFF'\" onclick=\"window.commands?.execute('create-mitosheet-from-dataframe-output');\">See Full Dataframe in Mito</div> <script> if (window.commands.hasCommand('create-mitosheet-from-dataframe-output')) document.getElementById('e357d1d8-7031-4bbb-9533-41656f4cfd4b').style.display = 'flex' </script> <table border=\"1\" class=\"dataframe\">\n",
       "  <thead>\n",
       "    <tr style=\"text-align: right;\">\n",
       "      <th></th>\n",
       "      <th>satisfaction_level</th>\n",
       "      <th>last_evaluation</th>\n",
       "      <th>number_project</th>\n",
       "      <th>average_montly_hours</th>\n",
       "      <th>time_spend_company</th>\n",
       "      <th>Work_accident</th>\n",
       "      <th>left</th>\n",
       "      <th>promotion_last_5years</th>\n",
       "      <th>sales</th>\n",
       "      <th>salary</th>\n",
       "    </tr>\n",
       "  </thead>\n",
       "  <tbody>\n",
       "    <tr>\n",
       "      <th>0</th>\n",
       "      <td>0.38</td>\n",
       "      <td>0.53</td>\n",
       "      <td>2</td>\n",
       "      <td>157</td>\n",
       "      <td>3</td>\n",
       "      <td>0</td>\n",
       "      <td>1</td>\n",
       "      <td>0</td>\n",
       "      <td>sales</td>\n",
       "      <td>low</td>\n",
       "    </tr>\n",
       "    <tr>\n",
       "      <th>1</th>\n",
       "      <td>0.80</td>\n",
       "      <td>0.86</td>\n",
       "      <td>5</td>\n",
       "      <td>262</td>\n",
       "      <td>6</td>\n",
       "      <td>0</td>\n",
       "      <td>1</td>\n",
       "      <td>0</td>\n",
       "      <td>sales</td>\n",
       "      <td>medium</td>\n",
       "    </tr>\n",
       "    <tr>\n",
       "      <th>2</th>\n",
       "      <td>0.11</td>\n",
       "      <td>0.88</td>\n",
       "      <td>7</td>\n",
       "      <td>272</td>\n",
       "      <td>4</td>\n",
       "      <td>0</td>\n",
       "      <td>1</td>\n",
       "      <td>0</td>\n",
       "      <td>sales</td>\n",
       "      <td>medium</td>\n",
       "    </tr>\n",
       "    <tr>\n",
       "      <th>3</th>\n",
       "      <td>0.72</td>\n",
       "      <td>0.87</td>\n",
       "      <td>5</td>\n",
       "      <td>223</td>\n",
       "      <td>5</td>\n",
       "      <td>0</td>\n",
       "      <td>1</td>\n",
       "      <td>0</td>\n",
       "      <td>sales</td>\n",
       "      <td>low</td>\n",
       "    </tr>\n",
       "    <tr>\n",
       "      <th>4</th>\n",
       "      <td>0.37</td>\n",
       "      <td>0.52</td>\n",
       "      <td>2</td>\n",
       "      <td>159</td>\n",
       "      <td>3</td>\n",
       "      <td>0</td>\n",
       "      <td>1</td>\n",
       "      <td>0</td>\n",
       "      <td>sales</td>\n",
       "      <td>low</td>\n",
       "    </tr>\n",
       "    <tr>\n",
       "      <th>...</th>\n",
       "      <td>...</td>\n",
       "      <td>...</td>\n",
       "      <td>...</td>\n",
       "      <td>...</td>\n",
       "      <td>...</td>\n",
       "      <td>...</td>\n",
       "      <td>...</td>\n",
       "      <td>...</td>\n",
       "      <td>...</td>\n",
       "      <td>...</td>\n",
       "    </tr>\n",
       "    <tr>\n",
       "      <th>14994</th>\n",
       "      <td>0.40</td>\n",
       "      <td>0.57</td>\n",
       "      <td>2</td>\n",
       "      <td>151</td>\n",
       "      <td>3</td>\n",
       "      <td>0</td>\n",
       "      <td>1</td>\n",
       "      <td>0</td>\n",
       "      <td>support</td>\n",
       "      <td>low</td>\n",
       "    </tr>\n",
       "    <tr>\n",
       "      <th>14995</th>\n",
       "      <td>0.37</td>\n",
       "      <td>0.48</td>\n",
       "      <td>2</td>\n",
       "      <td>160</td>\n",
       "      <td>3</td>\n",
       "      <td>0</td>\n",
       "      <td>1</td>\n",
       "      <td>0</td>\n",
       "      <td>support</td>\n",
       "      <td>low</td>\n",
       "    </tr>\n",
       "    <tr>\n",
       "      <th>14996</th>\n",
       "      <td>0.37</td>\n",
       "      <td>0.53</td>\n",
       "      <td>2</td>\n",
       "      <td>143</td>\n",
       "      <td>3</td>\n",
       "      <td>0</td>\n",
       "      <td>1</td>\n",
       "      <td>0</td>\n",
       "      <td>support</td>\n",
       "      <td>low</td>\n",
       "    </tr>\n",
       "    <tr>\n",
       "      <th>14997</th>\n",
       "      <td>0.11</td>\n",
       "      <td>0.96</td>\n",
       "      <td>6</td>\n",
       "      <td>280</td>\n",
       "      <td>4</td>\n",
       "      <td>0</td>\n",
       "      <td>1</td>\n",
       "      <td>0</td>\n",
       "      <td>support</td>\n",
       "      <td>low</td>\n",
       "    </tr>\n",
       "    <tr>\n",
       "      <th>14998</th>\n",
       "      <td>0.37</td>\n",
       "      <td>0.52</td>\n",
       "      <td>2</td>\n",
       "      <td>158</td>\n",
       "      <td>3</td>\n",
       "      <td>0</td>\n",
       "      <td>1</td>\n",
       "      <td>0</td>\n",
       "      <td>support</td>\n",
       "      <td>low</td>\n",
       "    </tr>\n",
       "  </tbody>\n",
       "</table></div>"
      ],
      "text/plain": [
       "       satisfaction_level  last_evaluation  number_project  \\\n",
       "0                    0.38             0.53               2   \n",
       "1                    0.80             0.86               5   \n",
       "2                    0.11             0.88               7   \n",
       "3                    0.72             0.87               5   \n",
       "4                    0.37             0.52               2   \n",
       "...                   ...              ...             ...   \n",
       "14994                0.40             0.57               2   \n",
       "14995                0.37             0.48               2   \n",
       "14996                0.37             0.53               2   \n",
       "14997                0.11             0.96               6   \n",
       "14998                0.37             0.52               2   \n",
       "\n",
       "       average_montly_hours  time_spend_company  Work_accident  left  \\\n",
       "0                       157                   3              0     1   \n",
       "1                       262                   6              0     1   \n",
       "2                       272                   4              0     1   \n",
       "3                       223                   5              0     1   \n",
       "4                       159                   3              0     1   \n",
       "...                     ...                 ...            ...   ...   \n",
       "14994                   151                   3              0     1   \n",
       "14995                   160                   3              0     1   \n",
       "14996                   143                   3              0     1   \n",
       "14997                   280                   4              0     1   \n",
       "14998                   158                   3              0     1   \n",
       "\n",
       "       promotion_last_5years    sales  salary  \n",
       "0                          0    sales     low  \n",
       "1                          0    sales  medium  \n",
       "2                          0    sales  medium  \n",
       "3                          0    sales     low  \n",
       "4                          0    sales     low  \n",
       "...                      ...      ...     ...  \n",
       "14994                      0  support     low  \n",
       "14995                      0  support     low  \n",
       "14996                      0  support     low  \n",
       "14997                      0  support     low  \n",
       "14998                      0  support     low  \n",
       "\n",
       "[14999 rows x 10 columns]"
      ]
     },
     "execution_count": 2,
     "metadata": {},
     "output_type": "execute_result"
    }
   ],
   "source": [
    "df = pd.read_csv(\"datos.csv\")\n",
    "df"
   ]
  },
  {
   "cell_type": "code",
   "execution_count": 3,
   "metadata": {
    "pycharm": {
     "name": "#%%\n"
    }
   },
   "outputs": [
    {
     "data": {
      "text/plain": [
       "satisfaction_level       0\n",
       "last_evaluation          0\n",
       "number_project           0\n",
       "average_montly_hours     0\n",
       "time_spend_company       0\n",
       "Work_accident            0\n",
       "left                     0\n",
       "promotion_last_5years    0\n",
       "sales                    0\n",
       "salary                   0\n",
       "dtype: int64"
      ]
     },
     "execution_count": 3,
     "metadata": {},
     "output_type": "execute_result"
    }
   ],
   "source": [
    "# Verificación de datos nulos en el dataset\n",
    "df.isnull().sum()"
   ]
  },
  {
   "cell_type": "code",
   "execution_count": 4,
   "metadata": {
    "pycharm": {
     "name": "#%%\n"
    }
   },
   "outputs": [
    {
     "data": {
      "text/plain": [
       "[('Work_accident', array([0, 1], dtype=int64)),\n",
       " ('left', array([1, 0], dtype=int64)),\n",
       " ('promotion_last_5years', array([0, 1], dtype=int64)),\n",
       " ('sales',\n",
       "  array(['sales', 'accounting', 'hr', 'technical', 'support', 'management',\n",
       "         'IT', 'product_mng', 'marketing', 'RandD'], dtype=object)),\n",
       " ('salary', array(['low', 'medium', 'high'], dtype=object))]"
      ]
     },
     "execution_count": 4,
     "metadata": {},
     "output_type": "execute_result"
    }
   ],
   "source": [
    "# Para variables categoricas y binarias, verificación de que no hayan elementos mal escritos o similar.\n",
    "# Para esto, se imprimen los valores únicos de cada variable\n",
    "variables_bin_cat = [\n",
    "    \"Work_accident\",\n",
    "    \"left\",\n",
    "    \"promotion_last_5years\",\n",
    "    \"sales\",\n",
    "    \"salary\",\n",
    "]\n",
    "[(i, df[i].unique()) for i in variables_bin_cat]"
   ]
  },
  {
   "cell_type": "code",
   "execution_count": 5,
   "metadata": {
    "pycharm": {
     "name": "#%%\n"
    }
   },
   "outputs": [
    {
     "data": {
      "text/html": [
       "<div><div id=3b7282fe-a15f-4c89-93d0-b9a532c98949 style=\"display:none; background-color:#9D6CFF; color:white; width:200px; height:30px; padding-left:5px; border-radius:4px; flex-direction:row; justify-content:space-around; align-items:center;\" onmouseover=\"this.style.backgroundColor='#BA9BF8'\" onmouseout=\"this.style.backgroundColor='#9D6CFF'\" onclick=\"window.commands?.execute('create-mitosheet-from-dataframe-output');\">See Full Dataframe in Mito</div> <script> if (window.commands.hasCommand('create-mitosheet-from-dataframe-output')) document.getElementById('3b7282fe-a15f-4c89-93d0-b9a532c98949').style.display = 'flex' </script> <table border=\"1\" class=\"dataframe\">\n",
       "  <thead>\n",
       "    <tr style=\"text-align: right;\">\n",
       "      <th></th>\n",
       "      <th>satisfaction_level</th>\n",
       "      <th>last_evaluation</th>\n",
       "      <th>number_project</th>\n",
       "      <th>average_montly_hours</th>\n",
       "      <th>time_spend_company</th>\n",
       "      <th>Work_accident</th>\n",
       "      <th>left</th>\n",
       "      <th>promotion_last_5years</th>\n",
       "    </tr>\n",
       "  </thead>\n",
       "  <tbody>\n",
       "    <tr>\n",
       "      <th>count</th>\n",
       "      <td>14999.000000</td>\n",
       "      <td>14999.000000</td>\n",
       "      <td>14999.000000</td>\n",
       "      <td>14999.000000</td>\n",
       "      <td>14999.000000</td>\n",
       "      <td>14999.000000</td>\n",
       "      <td>14999.000000</td>\n",
       "      <td>14999.000000</td>\n",
       "    </tr>\n",
       "    <tr>\n",
       "      <th>mean</th>\n",
       "      <td>0.612834</td>\n",
       "      <td>0.716102</td>\n",
       "      <td>3.803054</td>\n",
       "      <td>201.050337</td>\n",
       "      <td>3.498233</td>\n",
       "      <td>0.144610</td>\n",
       "      <td>0.238083</td>\n",
       "      <td>0.021268</td>\n",
       "    </tr>\n",
       "    <tr>\n",
       "      <th>std</th>\n",
       "      <td>0.248631</td>\n",
       "      <td>0.171169</td>\n",
       "      <td>1.232592</td>\n",
       "      <td>49.943099</td>\n",
       "      <td>1.460136</td>\n",
       "      <td>0.351719</td>\n",
       "      <td>0.425924</td>\n",
       "      <td>0.144281</td>\n",
       "    </tr>\n",
       "    <tr>\n",
       "      <th>min</th>\n",
       "      <td>0.090000</td>\n",
       "      <td>0.360000</td>\n",
       "      <td>2.000000</td>\n",
       "      <td>96.000000</td>\n",
       "      <td>2.000000</td>\n",
       "      <td>0.000000</td>\n",
       "      <td>0.000000</td>\n",
       "      <td>0.000000</td>\n",
       "    </tr>\n",
       "    <tr>\n",
       "      <th>25%</th>\n",
       "      <td>0.440000</td>\n",
       "      <td>0.560000</td>\n",
       "      <td>3.000000</td>\n",
       "      <td>156.000000</td>\n",
       "      <td>3.000000</td>\n",
       "      <td>0.000000</td>\n",
       "      <td>0.000000</td>\n",
       "      <td>0.000000</td>\n",
       "    </tr>\n",
       "    <tr>\n",
       "      <th>50%</th>\n",
       "      <td>0.640000</td>\n",
       "      <td>0.720000</td>\n",
       "      <td>4.000000</td>\n",
       "      <td>200.000000</td>\n",
       "      <td>3.000000</td>\n",
       "      <td>0.000000</td>\n",
       "      <td>0.000000</td>\n",
       "      <td>0.000000</td>\n",
       "    </tr>\n",
       "    <tr>\n",
       "      <th>75%</th>\n",
       "      <td>0.820000</td>\n",
       "      <td>0.870000</td>\n",
       "      <td>5.000000</td>\n",
       "      <td>245.000000</td>\n",
       "      <td>4.000000</td>\n",
       "      <td>0.000000</td>\n",
       "      <td>0.000000</td>\n",
       "      <td>0.000000</td>\n",
       "    </tr>\n",
       "    <tr>\n",
       "      <th>max</th>\n",
       "      <td>1.000000</td>\n",
       "      <td>1.000000</td>\n",
       "      <td>7.000000</td>\n",
       "      <td>310.000000</td>\n",
       "      <td>10.000000</td>\n",
       "      <td>1.000000</td>\n",
       "      <td>1.000000</td>\n",
       "      <td>1.000000</td>\n",
       "    </tr>\n",
       "  </tbody>\n",
       "</table></div>"
      ],
      "text/plain": [
       "       satisfaction_level  last_evaluation  number_project  \\\n",
       "count        14999.000000     14999.000000    14999.000000   \n",
       "mean             0.612834         0.716102        3.803054   \n",
       "std              0.248631         0.171169        1.232592   \n",
       "min              0.090000         0.360000        2.000000   \n",
       "25%              0.440000         0.560000        3.000000   \n",
       "50%              0.640000         0.720000        4.000000   \n",
       "75%              0.820000         0.870000        5.000000   \n",
       "max              1.000000         1.000000        7.000000   \n",
       "\n",
       "       average_montly_hours  time_spend_company  Work_accident          left  \\\n",
       "count          14999.000000        14999.000000   14999.000000  14999.000000   \n",
       "mean             201.050337            3.498233       0.144610      0.238083   \n",
       "std               49.943099            1.460136       0.351719      0.425924   \n",
       "min               96.000000            2.000000       0.000000      0.000000   \n",
       "25%              156.000000            3.000000       0.000000      0.000000   \n",
       "50%              200.000000            3.000000       0.000000      0.000000   \n",
       "75%              245.000000            4.000000       0.000000      0.000000   \n",
       "max              310.000000           10.000000       1.000000      1.000000   \n",
       "\n",
       "       promotion_last_5years  \n",
       "count           14999.000000  \n",
       "mean                0.021268  \n",
       "std                 0.144281  \n",
       "min                 0.000000  \n",
       "25%                 0.000000  \n",
       "50%                 0.000000  \n",
       "75%                 0.000000  \n",
       "max                 1.000000  "
      ]
     },
     "execution_count": 5,
     "metadata": {},
     "output_type": "execute_result"
    }
   ],
   "source": [
    "# Para la verificación de variables númericas continuas, se usa DataFrame.describe() para validar el rango de los datos\n",
    "df.describe()"
   ]
  },
  {
   "cell_type": "code",
   "execution_count": 16,
   "metadata": {
    "pycharm": {
     "name": "#%%\n"
    }
   },
   "outputs": [
    {
     "data": {
      "text/plain": [
       "satisfaction_level        float64\n",
       "last_evaluation           float64\n",
       "number_project              int64\n",
       "average_montly_hours        int64\n",
       "time_spend_company          int64\n",
       "Work_accident               int64\n",
       "employee_left               int64\n",
       "promotion_last_5years       int64\n",
       "department               category\n",
       "salary_level             category\n",
       "dtype: object"
      ]
     },
     "execution_count": 16,
     "metadata": {},
     "output_type": "execute_result"
    }
   ],
   "source": [
    "# Se renombra \"sales\" como \"department\", \"salary\" como \"salary_level\", \"left\" como \"employee_left\"\n",
    "# Esto es para dar nombres más interpretables de las variables\n",
    "df = df.rename(\n",
    "    columns={\"sales\": \"department\", \"salary\": \"salary_level\", \"left\": \"employee_left\"}\n",
    ")\n",
    "# Se convierten las variables a tipo Categoría para facilitar el uso de modelos\n",
    "df = df.astype({\"department\": \"category\", \"salary_level\": \"category\"})\n",
    "df.dtypes"
   ]
  },
  {
   "cell_type": "code",
   "execution_count": 17,
   "metadata": {
    "pycharm": {
     "name": "#%%\n"
    }
   },
   "outputs": [
    {
     "data": {
      "image/png": "[encoded data removed]",
      "text/plain": [
       "<Figure size 640x480 with 1 Axes>"
      ]
     },
     "metadata": {},
     "output_type": "display_data"
    }
   ],
   "source": [
    "# Se verifica si la variable respuesta se encuentra balanceada en el dataset, mostrando el conteo de la misma\n",
    "df.groupby(\"employee_left\")[\"department\"].count().plot(kind=\"bar\")\n",
    "plt.show()"
   ]
  },
  {
   "cell_type": "code",
   "execution_count": 18,
   "metadata": {
    "pycharm": {
     "name": "#%%\n"
    }
   },
   "outputs": [
    {
     "data": {
      "image/png": "[encoded data removed]",
      "text/plain": [
       "<Figure size 1500x500 with 2 Axes>"
      ]
     },
     "metadata": {},
     "output_type": "display_data"
    }
   ],
   "source": [
    "# Se realiza un mapa de calor de Predictive Power Score (PPS).\n",
    "# El PPS es una métrica que mide el poder predictivo de una variable sobre otra.\n",
    "# Esta se utiliza para observar correlaciones y posibles variables de interés para los modelos\n",
    "matrix_df = pps.matrix(df)[[\"x\", \"y\", \"ppscore\"]].pivot(\n",
    "    columns=\"x\", index=\"y\", values=\"ppscore\"\n",
    ")\n",
    "plt.figure(figsize=(15, 5))\n",
    "sns.heatmap(matrix_df, vmin=0, vmax=1, cmap=\"Blues\", linewidths=0.5, annot=True)\n",
    "plt.show()"
   ]
  },
  {
   "cell_type": "code",
   "execution_count": 19,
   "metadata": {
    "pycharm": {
     "name": "#%%\n"
    }
   },
   "outputs": [],
   "source": [
    "def get_X_y(df, y_name):\n",
    "    \"\"\" \"\"\"\n",
    "    y = [y_name]\n",
    "    X = [col for col in df.columns if col not in y]\n",
    "    y = df[y].copy().values.flatten()\n",
    "    X = pd.get_dummies(df[X].copy())\n",
    "    return X, y\n",
    "\n",
    "\n",
    "def data_preprocessing_up_or_down_sample(X, y, sample=\"up\", test_size=0.2):\n",
    "    \"\"\" \"\"\"\n",
    "\n",
    "    # Use the sample parameter to define local variables to select the correct\n",
    "    # method\n",
    "    a, b = 0, 0\n",
    "    if sample == \"up\":\n",
    "        a, b = 1, 0\n",
    "    if sample == \"down\":\n",
    "        a, b = 0, 1\n",
    "\n",
    "    # Apply the normal train_test_split to the data\n",
    "    X_train, X_test, y_train, y_test = train_test_split(X, y, test_size=test_size)\n",
    "    # Using the a and b local variables, apply downsampling or upsampling only\n",
    "    # if the sample parameter is \"up\" or \"down\".\n",
    "\n",
    "    if a + b >= 1:\n",
    "        X_train_temp, y_train_temp = resample(\n",
    "            X_train[y_train == a],\n",
    "            y_train[y_train == a],\n",
    "            n_samples=X_train[y_train == b].shape[0],\n",
    "        )\n",
    "        X_train = np.concatenate((X_train[y_train == b], X_train_temp))\n",
    "        y_train = np.concatenate((y_train[y_train == b], y_train_temp))\n",
    "    return (X_train, X_test, y_train, y_test)\n",
    "\n",
    "\n",
    "def plot_roc_conf_matrix(y_test, X_test, model, model_name):\n",
    "    \"\"\" \"\"\"\n",
    "    try:\n",
    "        y_pred = model.predict_classes(X_test)\n",
    "    except:\n",
    "        y_pred = model.predict(X_test)\n",
    "    cm = metrics.confusion_matrix(y_test, y_pred)\n",
    "    plt.figure(figsize=(15, 5))\n",
    "    plt.subplot(1, 2, 1)\n",
    "    sns.heatmap(cm, annot=True, fmt=\"g\", cmap=\"Blues\")\n",
    "    plt.title(model_name + \" - Matriz de confusión\", y=1.1, fontdict={\"fontsize\": 21})\n",
    "    plt.xlabel(\"Predicted\", fontdict={\"fontsize\": 14})\n",
    "    plt.ylabel(\"Actual\", fontdict={\"fontsize\": 14})\n",
    "\n",
    "    print(classification_report(y_test, y_pred))\n",
    "    plt.subplot(1, 2, 2)\n",
    "\n",
    "    rocauc_plot(model, model_name, y_test, X_test)\n",
    "\n",
    "\n",
    "def rocauc_plot(model, model_name, y_test, X_test):\n",
    "    \"\"\" \"\"\"\n",
    "    try:\n",
    "        auc = roc_auc_score(y_test, model.predict_proba(X_test)[:, 1])\n",
    "        fpr, tpr, thresholds = roc_curve(y_test, model.predict_proba(X_test)[:, 1])\n",
    "    except:\n",
    "        auc = roc_auc_score(y_test, model.predict(X_test))\n",
    "        fpr, tpr, thresholds = roc_curve(y_test, model.predict(X_test))\n",
    "    plt.plot(fpr, tpr, label=model_name + \" AUC = {:.5f}\".format(auc))\n",
    "    plt.title(\"Curva(s) ROC\", fontdict={\"fontsize\": 21})\n",
    "    plt.xlabel(\"False positive rate\", fontdict={\"fontsize\": 13})\n",
    "    plt.ylabel(\"True positive rate\", fontdict={\"fontsize\": 13})\n",
    "    plt.legend(loc=\"lower right\")\n",
    "    plt.plot([0, 1], [0, 1], \"r--\")"
   ]
  },
  {
   "cell_type": "code",
   "execution_count": 26,
   "metadata": {},
   "outputs": [
    {
     "data": {
      "text/html": [
       "<div><div id=c4d5d722-cd9b-4b91-abc8-df3945e0ffe7 style=\"display:none; background-color:#9D6CFF; color:white; width:200px; height:30px; padding-left:5px; border-radius:4px; flex-direction:row; justify-content:space-around; align-items:center;\" onmouseover=\"this.style.backgroundColor='#BA9BF8'\" onmouseout=\"this.style.backgroundColor='#9D6CFF'\" onclick=\"window.commands?.execute('create-mitosheet-from-dataframe-output');\">See Full Dataframe in Mito</div> <script> if (window.commands.hasCommand('create-mitosheet-from-dataframe-output')) document.getElementById('c4d5d722-cd9b-4b91-abc8-df3945e0ffe7').style.display = 'flex' </script> <table border=\"1\" class=\"dataframe\">\n",
       "  <thead>\n",
       "    <tr style=\"text-align: right;\">\n",
       "      <th></th>\n",
       "      <th>employee_left</th>\n",
       "      <th>number_project</th>\n",
       "      <th>satisfaction_level</th>\n",
       "      <th>salary_level</th>\n",
       "    </tr>\n",
       "  </thead>\n",
       "  <tbody>\n",
       "    <tr>\n",
       "      <th>0</th>\n",
       "      <td>1</td>\n",
       "      <td>2</td>\n",
       "      <td>0.38</td>\n",
       "      <td>low</td>\n",
       "    </tr>\n",
       "    <tr>\n",
       "      <th>1</th>\n",
       "      <td>1</td>\n",
       "      <td>5</td>\n",
       "      <td>0.80</td>\n",
       "      <td>medium</td>\n",
       "    </tr>\n",
       "    <tr>\n",
       "      <th>2</th>\n",
       "      <td>1</td>\n",
       "      <td>7</td>\n",
       "      <td>0.11</td>\n",
       "      <td>medium</td>\n",
       "    </tr>\n",
       "    <tr>\n",
       "      <th>3</th>\n",
       "      <td>1</td>\n",
       "      <td>5</td>\n",
       "      <td>0.72</td>\n",
       "      <td>low</td>\n",
       "    </tr>\n",
       "    <tr>\n",
       "      <th>4</th>\n",
       "      <td>1</td>\n",
       "      <td>2</td>\n",
       "      <td>0.37</td>\n",
       "      <td>low</td>\n",
       "    </tr>\n",
       "    <tr>\n",
       "      <th>...</th>\n",
       "      <td>...</td>\n",
       "      <td>...</td>\n",
       "      <td>...</td>\n",
       "      <td>...</td>\n",
       "    </tr>\n",
       "    <tr>\n",
       "      <th>14994</th>\n",
       "      <td>1</td>\n",
       "      <td>2</td>\n",
       "      <td>0.40</td>\n",
       "      <td>low</td>\n",
       "    </tr>\n",
       "    <tr>\n",
       "      <th>14995</th>\n",
       "      <td>1</td>\n",
       "      <td>2</td>\n",
       "      <td>0.37</td>\n",
       "      <td>low</td>\n",
       "    </tr>\n",
       "    <tr>\n",
       "      <th>14996</th>\n",
       "      <td>1</td>\n",
       "      <td>2</td>\n",
       "      <td>0.37</td>\n",
       "      <td>low</td>\n",
       "    </tr>\n",
       "    <tr>\n",
       "      <th>14997</th>\n",
       "      <td>1</td>\n",
       "      <td>6</td>\n",
       "      <td>0.11</td>\n",
       "      <td>low</td>\n",
       "    </tr>\n",
       "    <tr>\n",
       "      <th>14998</th>\n",
       "      <td>1</td>\n",
       "      <td>2</td>\n",
       "      <td>0.37</td>\n",
       "      <td>low</td>\n",
       "    </tr>\n",
       "  </tbody>\n",
       "</table></div>"
      ],
      "text/plain": [
       "       employee_left  number_project  satisfaction_level salary_level\n",
       "0                  1               2                0.38          low\n",
       "1                  1               5                0.80       medium\n",
       "2                  1               7                0.11       medium\n",
       "3                  1               5                0.72          low\n",
       "4                  1               2                0.37          low\n",
       "...              ...             ...                 ...          ...\n",
       "14994              1               2                0.40          low\n",
       "14995              1               2                0.37          low\n",
       "14996              1               2                0.37          low\n",
       "14997              1               6                0.11          low\n",
       "14998              1               2                0.37          low\n",
       "\n",
       "[14999 rows x 4 columns]"
      ]
     },
     "execution_count": 26,
     "metadata": {},
     "output_type": "execute_result"
    }
   ],
   "source": [
    "df[[\"employee_left\", \"number_project\", \"satisfaction_level\", \"salary_level\"]]"
   ]
  },
  {
   "cell_type": "code",
   "execution_count": null,
   "metadata": {},
   "outputs": [],
   "source": []
  },
  {
   "cell_type": "code",
   "execution_count": 36,
   "metadata": {
    "pycharm": {
     "name": "#%%\n"
    }
   },
   "outputs": [
    {
     "data": {
      "text/plain": [
       "GridSearchCV(cv=5,\n",
       "             estimator=Pipeline(steps=[('standardscaler', StandardScaler()),\n",
       "                                       ('randomforestclassifier',\n",
       "                                        RandomForestClassifier(class_weight='balanced'))]),\n",
       "             n_jobs=-1,\n",
       "             param_grid={'randomforestclassifier__criterion': ['gini',\n",
       "                                                               'entropy'],\n",
       "                         'randomforestclassifier__min_samples_leaf': array([1, 3, 5, 7, 9]),\n",
       "                         'randomforestclassifier__n_estimators': array([100, 350, 600, 850])},\n",
       "             scoring='f1')"
      ]
     },
     "execution_count": 36,
     "metadata": {},
     "output_type": "execute_result"
    }
   ],
   "source": [
    "X, y = get_X_y(\n",
    "    df[[\"employee_left\", \"average_montly_hours\", \"satisfaction_level\", \"salary_level\"]],\n",
    "    \"employee_left\",\n",
    ")\n",
    "X_train, X_test, y_train, y_test = data_preprocessing_up_or_down_sample(\n",
    "    X, y, \"up\", test_size=0.2\n",
    ")\n",
    "X_train = pd.DataFrame(columns=X.columns, data=X_train)\n",
    "for columna in [\n",
    "    \"average_montly_hours\",\n",
    "    \"salary_level_high\",\n",
    "    \"salary_level_low\",\n",
    "    \"salary_level_medium\",\n",
    "]:\n",
    "    X_train[columna] = X_train[columna].astype(int)\n",
    "\n",
    "param_grid = {\n",
    "    \"randomforestclassifier__min_samples_leaf\": np.arange(1, 11, 2),\n",
    "    \"randomforestclassifier__n_estimators\": np.arange(100, 1000 + 100, 250),\n",
    "    \"randomforestclassifier__criterion\": [\"gini\", \"entropy\"],\n",
    "}\n",
    "pipe = make_pipeline(StandardScaler(), RandomForestClassifier(class_weight=\"balanced\"))\n",
    "clf = GridSearchCV(\n",
    "    pipe, param_grid=param_grid, cv=5, refit=True, scoring=\"f1\", n_jobs=-1\n",
    ")\n",
    "clf.fit(X_train, y_train)"
   ]
  },
  {
   "cell_type": "code",
   "execution_count": 53,
   "metadata": {
    "pycharm": {
     "name": "#%%\n"
    }
   },
   "outputs": [
    {
     "name": "stdout",
     "output_type": "stream",
     "text": [
      "              precision    recall  f1-score   support\n",
      "\n",
      "           0       0.96      0.94      0.95      2305\n",
      "           1       0.81      0.88      0.85       695\n",
      "\n",
      "    accuracy                           0.93      3000\n",
      "   macro avg       0.89      0.91      0.90      3000\n",
      "weighted avg       0.93      0.93      0.93      3000\n",
      "\n"
     ]
    },
    {
     "data": {
      "image/png": "[encoded data removed]",
      "text/plain": [
       "<Figure size 1500x500 with 3 Axes>"
      ]
     },
     "metadata": {},
     "output_type": "display_data"
    }
   ],
   "source": [
    "plot_roc_conf_matrix(y_test, X_test, clf, \"Random Forest\")\n",
    "plt.show()"
   ]
  },
  {
   "cell_type": "code",
   "execution_count": 54,
   "metadata": {
    "pycharm": {
     "name": "#%%\n"
    }
   },
   "outputs": [
    {
     "data": {
      "text/plain": [
       "['model ex.pkl']"
      ]
     },
     "execution_count": 54,
     "metadata": {},
     "output_type": "execute_result"
    }
   ],
   "source": [
    "import joblib\n",
    "\n",
    "joblib.dump(clf, \"model ex.pkl\")"
   ]
  },
  {
   "cell_type": "code",
   "execution_count": 56,
   "metadata": {},
   "outputs": [
    {
     "data": {
      "text/html": [
       "<div><div id=b647fb8a-24bb-4d9b-a7fb-50d0d3612f37 style=\"display:none; background-color:#9D6CFF; color:white; width:200px; height:30px; padding-left:5px; border-radius:4px; flex-direction:row; justify-content:space-around; align-items:center;\" onmouseover=\"this.style.backgroundColor='#BA9BF8'\" onmouseout=\"this.style.backgroundColor='#9D6CFF'\" onclick=\"window.commands?.execute('create-mitosheet-from-dataframe-output');\">See Full Dataframe in Mito</div> <script> if (window.commands.hasCommand('create-mitosheet-from-dataframe-output')) document.getElementById('b647fb8a-24bb-4d9b-a7fb-50d0d3612f37').style.display = 'flex' </script> <table border=\"1\" class=\"dataframe\">\n",
       "  <thead>\n",
       "    <tr style=\"text-align: right;\">\n",
       "      <th></th>\n",
       "      <th>average_montly_hours</th>\n",
       "      <th>satisfaction_level</th>\n",
       "      <th>salary_level_high</th>\n",
       "      <th>salary_level_low</th>\n",
       "      <th>salary_level_medium</th>\n",
       "    </tr>\n",
       "  </thead>\n",
       "  <tbody>\n",
       "    <tr>\n",
       "      <th>0</th>\n",
       "      <td>135</td>\n",
       "      <td>0.53</td>\n",
       "      <td>0</td>\n",
       "      <td>0</td>\n",
       "      <td>1</td>\n",
       "    </tr>\n",
       "  </tbody>\n",
       "</table></div>"
      ],
      "text/plain": [
       "   average_montly_hours  satisfaction_level  salary_level_high  \\\n",
       "0                   135                0.53                  0   \n",
       "\n",
       "   salary_level_low  salary_level_medium  \n",
       "0                 0                    1  "
      ]
     },
     "execution_count": 56,
     "metadata": {},
     "output_type": "execute_result"
    }
   ],
   "source": [
    "X_train.head(1)"
   ]
  },
  {
   "cell_type": "markdown",
   "metadata": {},
   "source": [
    "# Clase 1: Pydantic"
   ]
  },
  {
   "cell_type": "code",
   "execution_count": 90,
   "metadata": {},
   "outputs": [],
   "source": [
    "from pydantic import BaseModel as BM\n",
    "from pydantic import Field\n",
    "from typing import Literal"
   ]
  },
  {
   "cell_type": "code",
   "execution_count": 89,
   "metadata": {},
   "outputs": [],
   "source": [
    "class InputModeloNo:\n",
    "    def __init__(self, salary_level: str):\n",
    "        if isinstance(salary_level, str):\n",
    "            if salary_level in [\"low\", \"medium\", \"high\"]:\n",
    "                self.salary_level = salary_level\n",
    "                print(\":)\")\n",
    "            else:\n",
    "                print(\":'(\")\n",
    "        else:\n",
    "            print(\":'(\")"
   ]
  },
  {
   "cell_type": "code",
   "execution_count": 79,
   "metadata": {},
   "outputs": [
    {
     "name": "stdout",
     "output_type": "stream",
     "text": [
      ":)\n"
     ]
    },
    {
     "data": {
      "text/plain": [
       "<__main__.InputModeloNo at 0x25f2f836250>"
      ]
     },
     "execution_count": 79,
     "metadata": {},
     "output_type": "execute_result"
    }
   ],
   "source": [
    "InputModeloNo(salary_level=\"low\")"
   ]
  },
  {
   "cell_type": "code",
   "execution_count": 129,
   "metadata": {},
   "outputs": [],
   "source": [
    "class InputModelo(BM):\n",
    "    \"\"\"\n",
    "    Clase que define las entradas del modelo según las verá el usuario.\n",
    "    \"\"\"\n",
    "\n",
    "    average_montly_hours: int = Field(\n",
    "        ge=96, le=310, description=\"Horas promedio mensuales trabajadas\"\n",
    "    )\n",
    "    satisfaction_level: float = Field(ge=0, le=1)\n",
    "    salary_level: Literal[\"high\", \"low\", \"medium\"]\n",
    "\n",
    "    class Config:\n",
    "        scheme_extra = {\n",
    "            \"example\": {\n",
    "                \"average_montly_hours\": 201,\n",
    "                \"satisfaction_level\": 0.42,\n",
    "                \"salay_level\": \"high\",\n",
    "            }\n",
    "        }\n",
    "\n",
    "\n",
    "class OutputModelo(BM):\n",
    "    \"\"\"\n",
    "    Clase que define la salida del modelo según la verá el usuario.\n",
    "    \"\"\"\n",
    "\n",
    "    employee_left: float = Field(ge=0, le=1)\n",
    "\n",
    "    class Config:\n",
    "        scheme_extra = {\n",
    "            \"example\": {\n",
    "                \"employee_left\": 0.69,\n",
    "            }\n",
    "        }"
   ]
  },
  {
   "cell_type": "code",
   "execution_count": 237,
   "metadata": {},
   "outputs": [],
   "source": [
    "average_montly_hours = 201\n",
    "satisfaction_level = 1\n",
    "salary_level = \"low\""
   ]
  },
  {
   "cell_type": "code",
   "execution_count": 238,
   "metadata": {},
   "outputs": [
    {
     "data": {
      "text/plain": [
       "InputModelo(average_montly_hours=201, satisfaction_level=1.0, salary_level='low')"
      ]
     },
     "execution_count": 238,
     "metadata": {},
     "output_type": "execute_result"
    }
   ],
   "source": [
    "InputModelo(\n",
    "    average_montly_hours=average_montly_hours,\n",
    "    satisfaction_level=satisfaction_level,\n",
    "    salary_level=salary_level,\n",
    ")"
   ]
  },
  {
   "cell_type": "code",
   "execution_count": 239,
   "metadata": {},
   "outputs": [
    {
     "data": {
      "text/html": [
       "<div><div id=af72380b-5cec-4814-b01e-dfae2dd7c9bd style=\"display:none; background-color:#9D6CFF; color:white; width:200px; height:30px; padding-left:5px; border-radius:4px; flex-direction:row; justify-content:space-around; align-items:center;\" onmouseover=\"this.style.backgroundColor='#BA9BF8'\" onmouseout=\"this.style.backgroundColor='#9D6CFF'\" onclick=\"window.commands?.execute('create-mitosheet-from-dataframe-output');\">See Full Dataframe in Mito</div> <script> if (window.commands.hasCommand('create-mitosheet-from-dataframe-output')) document.getElementById('af72380b-5cec-4814-b01e-dfae2dd7c9bd').style.display = 'flex' </script> <table border=\"1\" class=\"dataframe\">\n",
       "  <thead>\n",
       "    <tr style=\"text-align: right;\">\n",
       "      <th></th>\n",
       "      <th>average_montly_hours</th>\n",
       "      <th>satisfaction_level</th>\n",
       "      <th>salary_level_high</th>\n",
       "      <th>salary_level_low</th>\n",
       "      <th>salary_level_medium</th>\n",
       "    </tr>\n",
       "  </thead>\n",
       "  <tbody>\n",
       "    <tr>\n",
       "      <th>0</th>\n",
       "      <td>201</td>\n",
       "      <td>1</td>\n",
       "      <td>0</td>\n",
       "      <td>1</td>\n",
       "      <td>0</td>\n",
       "    </tr>\n",
       "  </tbody>\n",
       "</table></div>"
      ],
      "text/plain": [
       "   average_montly_hours  satisfaction_level  salary_level_high  \\\n",
       "0                   201                   1                  0   \n",
       "\n",
       "   salary_level_low  salary_level_medium  \n",
       "0                 1                    0  "
      ]
     },
     "execution_count": 239,
     "metadata": {},
     "output_type": "execute_result"
    }
   ],
   "source": [
    "InputModelo(\n",
    "    average_montly_hours=average_montly_hours,\n",
    "    satisfaction_level=satisfaction_level,\n",
    "    salary_level=salary_level,\n",
    ")\n",
    "\n",
    "salary_levels = [0] * 3\n",
    "\n",
    "# Crea el DataFrame en el mismo orden las columnas del X_train\n",
    "\n",
    "data_predict = pd.DataFrame(\n",
    "    columns=[\n",
    "        \"average_montly_hours\",\n",
    "        \"satisfaction_level\",\n",
    "        \"salary_level_high\",\n",
    "        \"salary_level_low\",\n",
    "        \"salary_level_medium\",\n",
    "    ],\n",
    "    data=[[average_montly_hours, satisfaction_level, *salary_levels]],\n",
    ")\n",
    "\n",
    "# Pone el 1 en la columna que debe ir el 1\n",
    "\n",
    "data_predict[\n",
    "    [\n",
    "        x\n",
    "        for x in data_predict.columns\n",
    "        if ((salary_level in x) and (x.startswith(\"salary_level_\")))\n",
    "    ]\n",
    "] = 1\n",
    "\n",
    "\n",
    "data_predict"
   ]
  },
  {
   "cell_type": "code",
   "execution_count": 248,
   "metadata": {},
   "outputs": [
    {
     "data": {
      "text/plain": [
       "array([0], dtype=int64)"
      ]
     },
     "execution_count": 248,
     "metadata": {},
     "output_type": "execute_result"
    }
   ],
   "source": [
    "clf.predict(data_predict)"
   ]
  }
 ],
 "metadata": {
  "kernelspec": {
   "display_name": "Python 3",
   "language": "python",
   "name": "python3"
  }
 },
 "nbformat": 4,
 "nbformat_minor": 1
}
